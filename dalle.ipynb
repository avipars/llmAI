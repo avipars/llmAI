{
 "cells": [
  {
   "cell_type": "code",
   "execution_count": null,
   "id": "540a9885",
   "metadata": {},
   "outputs": [],
   "source": [
    "import openai\n",
    "\n",
    "def generate_dalle_image(api_key, prompt):\n",
    "    client = openai.OpenAI(api_key=api_key)\n",
    "    try:\n",
    "        response = client.images.generate(\n",
    "            model=\"dall-e-3\",\n",
    "            prompt=prompt,\n",
    "            quality=\"hd\",\n",
    "            size=\"1024x1024\"\n",
    "        )\n",
    "        image_url = response.data[0].url\n",
    "        print(\"Generated Image URL:\", image_url)\n",
    "    except Exception as e:\n",
    "        print(\"Error generating image:\", e)\n",
    "\n",
    "if __name__ == \"__main__\":\n",
    "    api_key = input(\"Enter your OpenAI API key: \")\n",
    "    prompt = input(\"Enter an image prompt: \")\n",
    "    generate_dalle_image(api_key, prompt)"
   ]
  }
 ],
 "metadata": {
  "language_info": {
   "name": "python"
  }
 },
 "nbformat": 4,
 "nbformat_minor": 5
}
