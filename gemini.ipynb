{
 "cells": [
  {
   "cell_type": "code",
   "execution_count": null,
   "id": "6babced0",
   "metadata": {},
   "outputs": [],
   "source": [
    "import requests\n",
    "import json\n",
    "\n",
    "def get_gemini_response(api_key, prompt, model=\"gemini-2.0-flash\"):\n",
    "    url = f\"https://generativelanguage.googleapis.com/v1beta/models/{model}:generateContent?key={api_key}\"\n",
    "    headers = {\"Content-Type\": \"application/json\"}\n",
    "    data = {\"contents\": [{\"parts\": [{\"text\": prompt}]}]}\n",
    "\n",
    "    response = requests.post(url, headers=headers, data=json.dumps(data))\n",
    "\n",
    "    if response.status_code == 200:\n",
    "        return response.json()[\"candidates\"][0][\"content\"][\"parts\"][0][\"text\"]\n",
    "    else:\n",
    "        return f\"Error: {response.status_code}, {response.text}\"\n",
    "\n",
    "def list_models(api_key):\n",
    "    \"\"\"Fetch available models from the Gemini API.\"\"\"\n",
    "    url = f\"https://generativelanguage.googleapis.com/v1beta/models?key={api_key}\"\n",
    "    response = requests.get(url)\n",
    "\n",
    "    if response.status_code == 200:\n",
    "        models = response.json().get(\"models\", [])\n",
    "        for model in models:\n",
    "            print(f\"Model ID: {model['name']} - Supported Methods: {model.get('supportedMethods', [])}\")\n",
    "    else:\n",
    "        print(f\"Error fetching models: {response.status_code}, {response.text}\")\n",
    "\n",
    "if __name__ == \"__main__\":\n",
    "    api_key = input(\"Enter your Google Gemini API key: \")\n",
    "    \n",
    "    print(list_models(api_key))\n",
    "\n",
    "    prompt = input(\"Enter your prompt: \")\n",
    "    print(get_gemini_response(api_key, prompt))"
   ]
  }
 ],
 "metadata": {
  "language_info": {
   "name": "python"
  }
 },
 "nbformat": 4,
 "nbformat_minor": 5
}
