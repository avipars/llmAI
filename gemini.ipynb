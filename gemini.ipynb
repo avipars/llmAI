{
 "cells": [
  {
   "cell_type": "code",
   "execution_count": null,
   "id": "6babced0",
   "metadata": {
    "vscode": {
     "languageId": "plaintext"
    }
   },
   "outputs": [],
   "source": [
    "import requests\n",
    "import json\n",
    "\n",
    "def get_gemini_response(api_key, prompt):\n",
    "    url = f\"https://generativelanguage.googleapis.com/v1beta/models/gemini-2.0-flash:generateContent?key={api_key}\"\n",
    "    headers = {\"Content-Type\": \"application/json\"}\n",
    "    data = {\"contents\": [{\"parts\": [{\"text\": prompt}]}]}\n",
    "\n",
    "    response = requests.post(url, headers=headers, data=json.dumps(data))\n",
    "\n",
    "    if response.status_code == 200:\n",
    "        return response.json()[\"candidates\"][0][\"content\"][\"parts\"][0][\"text\"]\n",
    "    else:\n",
    "        return f\"Error: {response.status_code}, {response.text}\"\n",
    "\n",
    "if __name__ == \"__main__\":\n",
    "    api_key = input(\"Enter your Google Gemini API key: \")\n",
    "    prompt = input(\"Enter your prompt: \")\n",
    "\n",
    "    result = get_gemini_response(api_key, prompt)\n",
    "    print(result)"
   ]
  }
 ],
 "metadata": {
  "language_info": {
   "name": "python"
  }
 },
 "nbformat": 4,
 "nbformat_minor": 5
}
